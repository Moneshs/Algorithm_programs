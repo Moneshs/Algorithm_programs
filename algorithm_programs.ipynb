{
 "cells": [
  {
   "cell_type": "code",
   "execution_count": 1,
   "metadata": {},
   "outputs": [],
   "source": [
    "import numpy as np"
   ]
  },
  {
   "cell_type": "code",
   "execution_count": 21,
   "metadata": {},
   "outputs": [
    {
     "name": "stdout",
     "output_type": "stream",
     "text": [
      "abc\n",
      "acb\n",
      "bac\n",
      "bca\n",
      "cba\n",
      "cab\n"
     ]
    }
   ],
   "source": [
    "def tostring(list):\n",
    "    return ''.join(list)\n",
    "\n",
    "def permute(a,l,r):\n",
    "    if(l==r):\n",
    "        print(tostring(a))\n",
    "    else:\n",
    "        for i in range(l,r+1):\n",
    "            a[l],a[i]=a[i],a[l]\n",
    "           # print(\"first\",a[l],a[i])\n",
    "            permute(a,l+1,r)\n",
    "            a[l],a[i]=a[i],a[l]\n",
    "            #print(\"second\",a[l],a[i])\n",
    "        \n",
    "string=\"abc\"\n",
    "n=len(string)\n",
    "a=list(string)\n",
    "permute(a,0,n-1)"
   ]
  },
  {
   "cell_type": "code",
   "execution_count": 64,
   "metadata": {},
   "outputs": [
    {
     "name": "stdout",
     "output_type": "stream",
     "text": [
      "targetfound: hello\n"
     ]
    }
   ],
   "source": [
    "def binarysearch(L,target):\n",
    "    first=0\n",
    "    r=len(L)-1 \n",
    "    while(first<=r):\n",
    "        middle=(first+r)//2\n",
    "        mid=L[middle]\n",
    "        if (mid > target): \n",
    "            end= middle-1\n",
    "        elif(mid < target): \n",
    "            first= middle + 1\n",
    "        else:\n",
    "            return mid\n",
    "    \n",
    "L = [\"monesh\",\"lokesh\",\"dinesh\",\"hello\",\"bye\"]\n",
    "L=sorted(L)\n",
    "target=\"hello\"\n",
    "print(\"targetfound:\",binarysearch(L,target))"
   ]
  },
  {
   "cell_type": "code",
   "execution_count": 74,
   "metadata": {},
   "outputs": [
    {
     "name": "stdout",
     "output_type": "stream",
     "text": [
      "1\n",
      "2\n",
      "17\n",
      "23\n",
      "34\n",
      "42\n",
      "45\n",
      "62\n"
     ]
    }
   ],
   "source": [
    "def insertion(arr):\n",
    "    for i in range(1,len(arr)):\n",
    "        key=arr[i]\n",
    "        j=i-1\n",
    "        while j>=0 and key<arr[j]:\n",
    "            arr[j+1]=arr[j]\n",
    "            j-=1\n",
    "        arr[j+1]=key\n",
    "    \n",
    "    \n",
    "arr=[23,34,1,2,62,42,17,45]\n",
    "n=len(arr)\n",
    "insertion(arr)\n",
    "for i in range(len(arr)):\n",
    "    print(\"%d\"%arr[i])"
   ]
  },
  {
   "cell_type": "code",
   "execution_count": 147,
   "metadata": {},
   "outputs": [
    {
     "name": "stdout",
     "output_type": "stream",
     "text": [
      "<class 'list'>\n",
      "1\n",
      "2\n",
      "17\n",
      "23\n",
      "34\n",
      "42\n",
      "45\n",
      "62\n"
     ]
    }
   ],
   "source": [
    "def bubblesort(a):\n",
    "    n=len(a)\n",
    "    for i in range(n):\n",
    "        for j in range(0,n-i-1):\n",
    "            if a[j]>a[j+1]:\n",
    "                a[j+1],a[j]=a[j],a[j+1]\n",
    "            \n",
    "a=[23,34,1,2,62,42,17,45]\n",
    "print(type(a))\n",
    "bubblesort(a)\n",
    "for i in range(len(a)):\n",
    "    print(\"%d\" %a[i])"
   ]
  },
  {
   "cell_type": "code",
   "execution_count": 154,
   "metadata": {},
   "outputs": [
    {
     "name": "stdout",
     "output_type": "stream",
     "text": [
      "enter a string1:a\n",
      "enter a string2:a\n",
      "its a anagram\n"
     ]
    }
   ],
   "source": [
    "def anagram(str1,str2):\n",
    "    n1=len(str1)\n",
    "    n2=len(str2)\n",
    "    if n1!=n2:\n",
    "        return 0\n",
    "    \n",
    "    str1=sorted(str1)\n",
    "    str2=sorted(str2)\n",
    "    \n",
    "    for i in range(n1):\n",
    "        if(str1[i]!=str2[i]):\n",
    "            return 0\n",
    "    \n",
    "    return 1\n",
    "\n",
    "str1=input(\"enter a string1:\")\n",
    "str2=input(\"enter a string2:\")\n",
    "if(anagram(str1,str2)):\n",
    "    print(\"its a anagram\")\n",
    "else:\n",
    "    print(\"its not a anagram\")"
   ]
  },
  {
   "cell_type": "code",
   "execution_count": 157,
   "metadata": {},
   "outputs": [
    {
     "name": "stdout",
     "output_type": "stream",
     "text": [
      "The palindrome numbers are:\n",
      "2\n",
      "3\n",
      "5\n",
      "7\n",
      "11\n",
      "101\n",
      "131\n",
      "151\n",
      "181\n",
      "191\n",
      "313\n",
      "353\n",
      "373\n",
      "383\n",
      "727\n",
      "757\n",
      "787\n",
      "797\n",
      "919\n",
      "929\n"
     ]
    }
   ],
   "source": [
    "\n",
    "def prime(n):\n",
    "    for i in range(2,n+1):\n",
    "        if i>1:\n",
    "            for j in range(2,i):\n",
    "                if(i%j==0):\n",
    "                    break\n",
    "            else:\n",
    "                #return i\n",
    "                palindrome(i)\n",
    "                \n",
    "l=[]             \n",
    "print(\"The palindrome numbers are:\")\n",
    "def palindrome(i):\n",
    "    temp=i\n",
    "    l.append(i)\n",
    "    rev=0\n",
    "    while(i>0):\n",
    "        dig=i%10\n",
    "        rev=rev*10+dig\n",
    "        i=i//10\n",
    "    if(temp==rev):\n",
    "        print(temp)\n",
    "\n",
    "    \n",
    "n=1000\n",
    "prime(1000)"
   ]
  },
  {
   "cell_type": "code",
   "execution_count": 179,
   "metadata": {},
   "outputs": [
    {
     "name": "stdout",
     "output_type": "stream",
     "text": [
      "Enter a number: 75\n",
      "The computer takes a guess... 50\n",
      "The computer takes a guess... 75\n",
      "The computer guessed 75 and it was correct!\n"
     ]
    }
   ],
   "source": [
    "def computer_guess(num):\n",
    "    low = 1\n",
    "    high = 100\n",
    "    guess = 50\n",
    "    while guess != num:\n",
    "        guess = (low+high)//2\n",
    "        print(\"The computer takes a guess...\", guess)\n",
    "        if guess > num:\n",
    "            high = guess\n",
    "        elif guess < num:\n",
    "            low = guess + 1\n",
    "\n",
    "    print(\"The computer guessed\", guess, \"and it was correct!\")\n",
    "\n",
    "\n",
    "def main():\n",
    "    num = int(input(\"Enter a number: \"))\n",
    "    if num < 1 or num > 100:\n",
    "        print(\"Must be in range [1, 100]\")\n",
    "    else:\n",
    "        computer_guess(num)\n",
    "\n",
    "if __name__ == '__main__':\n",
    "    main()"
   ]
  },
  {
   "cell_type": "code",
   "execution_count": 180,
   "metadata": {},
   "outputs": [],
   "source": [
    "import re"
   ]
  },
  {
   "cell_type": "code",
   "execution_count": 185,
   "metadata": {},
   "outputs": [],
   "source": [
    "string=\"\"\"Hello <<name>>, We have your full name as <<full name>> in our system.\n",
    "your contact number is 91-xxxxxxxxxx.Please,let us know in case of any clarification\n",
    "Thank you BridgeLabz 01/01/2016.\"\"\""
   ]
  },
  {
   "cell_type": "code",
   "execution_count": 202,
   "metadata": {},
   "outputs": [
    {
     "name": "stdout",
     "output_type": "stream",
     "text": [
      "enter the name:Monesh\n",
      "enter the fullname:Monesh.S\n",
      "enter the mobile number:8144434525\n",
      "enter the date:17/12/2019\n",
      "Hello Monesh, We have your full name as Monesh.S in our system.\n",
      "          your contact number is 91-8144434525.Please,let us know in case of any clarification\n",
      "          Thank you BridgeLabz 17/12/2019\n"
     ]
    }
   ],
   "source": [
    "name=input(\"enter the name:\")\n",
    "fullname=input(\"enter the fullname:\")\n",
    "mobilenumber=input(\"enter the mobile number:\")\n",
    "date=input(\"enter the date:\")\n",
    "#regex = r\"\\d{4}-\\d{2}-\\d{2}\"\n",
    "x=re.sub(\"<<name>>\",name,string)\n",
    "x=re.sub(\"<<full name>>\",fullname,x)\n",
    "x=re.sub(\"xxxxxxxxxx\",mobilenumber,x)\n",
    "x=re.sub(\"01/01/2016.\",date,x)\n",
    "print(x)"
   ]
  },
  {
   "cell_type": "code",
   "execution_count": null,
   "metadata": {},
   "outputs": [],
   "source": []
  }
 ],
 "metadata": {
  "kernelspec": {
   "display_name": "Python 3",
   "language": "python",
   "name": "python3"
  },
  "language_info": {
   "codemirror_mode": {
    "name": "ipython",
    "version": 3
   },
   "file_extension": ".py",
   "mimetype": "text/x-python",
   "name": "python",
   "nbconvert_exporter": "python",
   "pygments_lexer": "ipython3",
   "version": "3.7.4"
  }
 },
 "nbformat": 4,
 "nbformat_minor": 2
}

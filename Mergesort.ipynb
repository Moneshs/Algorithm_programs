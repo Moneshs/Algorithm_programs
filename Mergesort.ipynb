{
 "cells": [
  {
   "cell_type": "markdown",
   "metadata": {},
   "source": [
    "# Mergesort"
   ]
  },
  {
   "cell_type": "code",
   "execution_count": 9,
   "metadata": {},
   "outputs": [
    {
     "name": "stdout",
     "output_type": "stream",
     "text": [
      "1 9 13 25 34 52 64 88 90 \n"
     ]
    }
   ],
   "source": [
    "def mergesort(arr):\n",
    "    if len(arr)>1:\n",
    "        mid=len(arr)//2\n",
    "        L=arr[mid:]\n",
    "        R=arr[:mid]\n",
    "        \n",
    "        mergesort(L)\n",
    "        mergesort(R)\n",
    "        \n",
    "        i=j=k=0\n",
    "        while i<len(L) and j<len(R):\n",
    "            if L[i]<R[j]:\n",
    "                arr[k]=L[i]\n",
    "                i+=1\n",
    "            else:\n",
    "                arr[k]=R[j]\n",
    "                j+=1\n",
    "            k+=1\n",
    "        while i<len(L):\n",
    "            arr[k]=L[i]\n",
    "            i+=1\n",
    "            k+=1\n",
    "        while j<len(R):\n",
    "            arr[k]=R[j]\n",
    "            j+=1\n",
    "            k+=1\n",
    "\n",
    "\n",
    "            \n",
    "def printlist(arr):\n",
    "    for i in range(len(arr)):\n",
    "        print(arr[i],end=' ')\n",
    "    print()\n",
    "\n",
    "            \n",
    "arr=[34,1,25,13,9,90,52,88,64]\n",
    "mergesort(arr)\n",
    "printlist(arr)\n"
   ]
  },
  {
   "cell_type": "code",
   "execution_count": null,
   "metadata": {},
   "outputs": [],
   "source": [
    "\n"
   ]
  }
 ],
 "metadata": {
  "kernelspec": {
   "display_name": "Python 3",
   "language": "python",
   "name": "python3"
  },
  "language_info": {
   "codemirror_mode": {
    "name": "ipython",
    "version": 3
   },
   "file_extension": ".py",
   "mimetype": "text/x-python",
   "name": "python",
   "nbconvert_exporter": "python",
   "pygments_lexer": "ipython3",
   "version": "3.7.4"
  }
 },
 "nbformat": 4,
 "nbformat_minor": 2
}
